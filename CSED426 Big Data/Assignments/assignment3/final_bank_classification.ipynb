{
 "cells": [
  {
   "cell_type": "code",
   "execution_count": 1,
   "metadata": {},
   "outputs": [],
   "source": [
    "import pandas as pd;\n",
    "import numpy as np;\n",
    "from sklearn.preprocessing import LabelEncoder;\n",
    "from sklearn.tree import DecisionTreeClassifier;\n",
    "from sklearn import tree;\n",
    "from sklearn.metrics import f1_score;\n",
    "import time"
   ]
  },
  {
   "cell_type": "code",
   "execution_count": 2,
   "metadata": {},
   "outputs": [],
   "source": [
    "TRAINING_FILE = \"bank_train.csv\";\n",
    "TEST_FILE = \"bank_test.csv\";\n",
    "SAMPLE = \"bank_sample_submission.csv\""
   ]
  },
  {
   "cell_type": "code",
   "execution_count": 3,
   "metadata": {},
   "outputs": [
    {
     "name": "stderr",
     "output_type": "stream",
     "text": [
      "C:\\Users\\sajan\\Anaconda3\\lib\\site-packages\\ipykernel_launcher.py:1: FutureWarning: from_csv is deprecated. Please use read_csv(...) instead. Note that some of the default arguments are different, so please refer to the documentation for from_csv when changing your function calls\n",
      "  \"\"\"Entry point for launching an IPython kernel.\n",
      "C:\\Users\\sajan\\Anaconda3\\lib\\site-packages\\ipykernel_launcher.py:2: FutureWarning: from_csv is deprecated. Please use read_csv(...) instead. Note that some of the default arguments are different, so please refer to the documentation for from_csv when changing your function calls\n",
      "  \n",
      "C:\\Users\\sajan\\Anaconda3\\lib\\site-packages\\ipykernel_launcher.py:3: FutureWarning: from_csv is deprecated. Please use read_csv(...) instead. Note that some of the default arguments are different, so please refer to the documentation for from_csv when changing your function calls\n",
      "  This is separate from the ipykernel package so we can avoid doing imports until\n"
     ]
    }
   ],
   "source": [
    "df_train = pd.DataFrame.from_csv(TRAINING_FILE, parse_dates=True, index_col=None);\n",
    "df_test = pd.DataFrame.from_csv(TEST_FILE, parse_dates=True, index_col=None);\n",
    "df_sample = pd.DataFrame.from_csv(SAMPLE, parse_dates=True, index_col=None);"
   ]
  },
  {
   "cell_type": "code",
   "execution_count": 4,
   "metadata": {},
   "outputs": [],
   "source": [
    "#Remove rows from dataframe where job column has values unknown, unknown values are less in number 191 and \n",
    "#corresponding columns also contain -1 or unknown values for pdays and poutcome\n",
    "df_train = df_train[df_train.job != 'unknown']\n",
    "df_train = df_train[df_train.education != 'unknown']"
   ]
  },
  {
   "cell_type": "code",
   "execution_count": 5,
   "metadata": {},
   "outputs": [],
   "source": [
    "job_enc = LabelEncoder()\n",
    "df_train['job'] = job_enc.fit_transform(df_train['job'])\n",
    "\n",
    "marital_enc = LabelEncoder()\n",
    "df_train['marital'] = marital_enc.fit_transform(df_train['marital'])\n",
    "\n",
    "edu_enc = LabelEncoder()\n",
    "df_train['education'] = edu_enc.fit_transform(df_train['education'])\n",
    "\n",
    "contact_enc = LabelEncoder()\n",
    "df_train['contact'] = contact_enc.fit_transform(df_train['contact'])\n",
    "\n",
    "month_enc = LabelEncoder()\n",
    "df_train['month'] = month_enc.fit_transform(df_train['month'])\n",
    "\n",
    "poutcome_enc = LabelEncoder()\n",
    "df_train['poutcome'] = poutcome_enc.fit_transform(df_train['poutcome'])\n",
    "\n",
    "df_train['defaulttransformed'] = pd.np.where(df_train['default'].astype(str)==\"yes\",1,0)\n",
    "df_train['housingtransformed'] = pd.np.where(df_train['housing'].astype(str)==\"yes\",1,0)\n",
    "df_train['loantransformed'] = pd.np.where(df_train['loan'].astype(str)==\"yes\",1,0)\n",
    "\n",
    "\n",
    "job_enc2 = LabelEncoder()\n",
    "df_test['job'] = job_enc2.fit_transform(df_test['job'])\n",
    "\n",
    "marital_enc2 = LabelEncoder()\n",
    "df_test['marital'] = marital_enc2.fit_transform(df_test['marital'])\n",
    "\n",
    "edu_enc2 = LabelEncoder()\n",
    "df_test['education'] = edu_enc2.fit_transform(df_test['education'])\n",
    "\n",
    "contact_enc2 = LabelEncoder()\n",
    "df_test['contact'] = contact_enc2.fit_transform(df_test['contact'])\n",
    "\n",
    "month_enc2 = LabelEncoder()\n",
    "df_test['month'] = month_enc2.fit_transform(df_test['month'])\n",
    "\n",
    "poutcome_enc2 = LabelEncoder()\n",
    "df_test['poutcome'] = poutcome_enc2.fit_transform(df_test['poutcome'])\n",
    "\n",
    "df_test['defaulttransformed'] = pd.np.where(df_test['default'].astype(str)==\"yes\",1,0)\n",
    "df_test['housingtransformed'] = pd.np.where(df_test['housing'].astype(str)==\"yes\",1,0)\n",
    "df_test['loantransformed'] = pd.np.where(df_test['loan'].astype(str)==\"yes\",1,0)"
   ]
  },
  {
   "cell_type": "code",
   "execution_count": 6,
   "metadata": {},
   "outputs": [],
   "source": [
    "def ageParser(age):\n",
    "    if((age >= 18) and (age < 30)):\n",
    "        value = 2\n",
    "    elif((age >=30) and (age < 40)):\n",
    "        value = 3\n",
    "    elif((age >= 40) and (age < 50)):\n",
    "        value = 4\n",
    "    elif((age >=50) and (age < 60)):\n",
    "        value = 5\n",
    "    elif((age >=60) and (age < 70)):\n",
    "        value = 6\n",
    "    elif((age >= 70) and (age < 80)):\n",
    "        value = 7\n",
    "    elif((age >= 80) and (age < 90)):\n",
    "        value = 8\n",
    "    elif((age >= 90) and (age < 100)):\n",
    "        value = 9\n",
    "    else:\n",
    "        value = 0\n",
    "    return value"
   ]
  },
  {
   "cell_type": "code",
   "execution_count": 7,
   "metadata": {},
   "outputs": [],
   "source": [
    "def campaignParser(num):\n",
    "    if((num >= 0) and (num < 10)):\n",
    "        value = 0\n",
    "    elif((num >=10) and (num < 20)):\n",
    "        value = 1\n",
    "    elif((num >=20) and (num < 30)):\n",
    "        value = 2\n",
    "    elif((num >=30) and (num < 40)):\n",
    "        value = 3\n",
    "    elif((num >=40) and (num < 50)):\n",
    "        value = 4\n",
    "    elif((num >=50) and (num < 60)):\n",
    "        value = 5\n",
    "    elif((num >=60) and (num < 70)):\n",
    "        value = 6\n",
    "    else:\n",
    "        value = 0\n",
    "    return value"
   ]
  },
  {
   "cell_type": "code",
   "execution_count": 8,
   "metadata": {},
   "outputs": [],
   "source": [
    "#df_train['age']= df_train.apply(lambda x: ageParser(x['age']), axis=1)\n",
    "#df_test['age']= df_test.apply(lambda x: ageParser(x['age']), axis=1)\n",
    "\n",
    "#df_train['campaign']= df_train.apply(lambda x: campaignParser(x['campaign']), axis=1)\n",
    "#df_test['campaign']= df_test.apply(lambda x: campaignParser(x['campaign']), axis=1)"
   ]
  },
  {
   "cell_type": "code",
   "execution_count": 9,
   "metadata": {},
   "outputs": [],
   "source": [
    "df_train = df_train.drop(['default','housing','loan','pdays','poutcome'],axis=1)\n",
    "df_test = df_test.drop(['default','housing','loan','pdays','poutcome'],axis=1)"
   ]
  },
  {
   "cell_type": "code",
   "execution_count": 10,
   "metadata": {},
   "outputs": [
    {
     "name": "stdout",
     "output_type": "stream",
     "text": [
      "<class 'pandas.core.frame.DataFrame'>\n",
      "Int64Index: 27651 entries, 0 to 28933\n",
      "Data columns (total 15 columns):\n",
      "age                   27651 non-null int64\n",
      "job                   27651 non-null int64\n",
      "marital               27651 non-null int64\n",
      "education             27651 non-null int64\n",
      "balance               27651 non-null int64\n",
      "contact               27651 non-null int64\n",
      "day                   27651 non-null int64\n",
      "month                 27651 non-null int64\n",
      "duration              27651 non-null int64\n",
      "campaign              27651 non-null int64\n",
      "previous              27651 non-null int64\n",
      "y                     27651 non-null int64\n",
      "defaulttransformed    27651 non-null int32\n",
      "housingtransformed    27651 non-null int32\n",
      "loantransformed       27651 non-null int32\n",
      "dtypes: int32(3), int64(12)\n",
      "memory usage: 3.1 MB\n"
     ]
    }
   ],
   "source": [
    "df_train.info()"
   ]
  },
  {
   "cell_type": "code",
   "execution_count": 11,
   "metadata": {},
   "outputs": [],
   "source": [
    "attr_cols = df_train.columns"
   ]
  },
  {
   "cell_type": "code",
   "execution_count": 12,
   "metadata": {},
   "outputs": [
    {
     "data": {
      "text/plain": [
       "Index(['age', 'job', 'marital', 'education', 'balance', 'contact', 'day',\n",
       "       'month', 'duration', 'campaign', 'previous', 'y', 'defaulttransformed',\n",
       "       'housingtransformed', 'loantransformed'],\n",
       "      dtype='object')"
      ]
     },
     "execution_count": 12,
     "metadata": {},
     "output_type": "execute_result"
    }
   ],
   "source": [
    "attr_cols"
   ]
  },
  {
   "cell_type": "code",
   "execution_count": 13,
   "metadata": {},
   "outputs": [],
   "source": [
    "attr_cols = attr_cols.drop(['y'])"
   ]
  },
  {
   "cell_type": "code",
   "execution_count": 14,
   "metadata": {},
   "outputs": [],
   "source": [
    "df_test_copy = df_test.copy()\n",
    "df_test_copy = df_test_copy.drop(attr_cols, axis=1)"
   ]
  },
  {
   "cell_type": "code",
   "execution_count": 15,
   "metadata": {},
   "outputs": [],
   "source": [
    "clf = tree.DecisionTreeClassifier()\n",
    "clf = clf.fit(df_train[attr_cols], df_train['y'])\n",
    "df_test_copy['y'] = clf.predict(df_test[attr_cols])"
   ]
  },
  {
   "cell_type": "code",
   "execution_count": 16,
   "metadata": {},
   "outputs": [
    {
     "data": {
      "text/plain": [
       "0.49073818081282833"
      ]
     },
     "execution_count": 16,
     "metadata": {},
     "output_type": "execute_result"
    }
   ],
   "source": [
    "f1_score(df_sample['y'],df_test_copy['y'],average=\"micro\")"
   ]
  },
  {
   "cell_type": "code",
   "execution_count": 17,
   "metadata": {},
   "outputs": [],
   "source": [
    "df_test_copy.to_csv('sample_bank_submission.csv', index=False)"
   ]
  },
  {
   "cell_type": "code",
   "execution_count": null,
   "metadata": {},
   "outputs": [],
   "source": []
  }
 ],
 "metadata": {
  "kernelspec": {
   "display_name": "Python 3",
   "language": "python",
   "name": "python3"
  },
  "language_info": {
   "codemirror_mode": {
    "name": "ipython",
    "version": 3
   },
   "file_extension": ".py",
   "mimetype": "text/x-python",
   "name": "python",
   "nbconvert_exporter": "python",
   "pygments_lexer": "ipython3",
   "version": "3.7.0"
  }
 },
 "nbformat": 4,
 "nbformat_minor": 2
}
